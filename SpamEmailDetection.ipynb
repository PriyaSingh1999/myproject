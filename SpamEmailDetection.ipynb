{
  "nbformat": 4,
  "nbformat_minor": 0,
  "metadata": {
    "colab": {
      "name": "SpamEmailDetection.ipynb",
      "provenance": [],
      "collapsed_sections": [],
      "authorship_tag": "ABX9TyNRNiBSvu9CvrS+IX8HA8YG",
      "include_colab_link": true
    },
    "kernelspec": {
      "name": "python3",
      "display_name": "Python 3"
    },
    "language_info": {
      "name": "python"
    }
  },
  "cells": [
    {
      "cell_type": "markdown",
      "metadata": {
        "id": "view-in-github",
        "colab_type": "text"
      },
      "source": [
        "<a href=\"https://colab.research.google.com/github/PriyaSingh1999/myproject/blob/main/SpamEmailDetection.ipynb\" target=\"_parent\"><img src=\"https://colab.research.google.com/assets/colab-badge.svg\" alt=\"Open In Colab\"/></a>"
      ]
    },
    {
      "cell_type": "code",
      "metadata": {
        "id": "kirFCgyuLOhv",
        "colab": {
          "base_uri": "https://localhost:8080/"
        },
        "outputId": "31e91906-2fdb-48b9-84bd-50638cf27ca4"
      },
      "source": [
        "import nltk\n",
        "nltk.download('punkt')\n",
        "nltk.download('averaged_perceptron_tagger')\n",
        "nltk.download('stopwords')\n",
        "from nltk.tokenize import sent_tokenize,RegexpTokenizer,word_tokenize\n",
        "from nltk.corpus import stopwords\n",
        "from nltk.stem import PorterStemmer\n",
        "from sklearn.feature_extraction.text import CountVectorizer\n",
        "import numpy as np\n",
        "import pandas as pd\n",
        "from sklearn.preprocessing import LabelEncoder\n",
        "from sklearn.feature_extraction.text import CountVectorizer\n",
        "from sklearn.model_selection import train_test_split"
      ],
      "execution_count": 1,
      "outputs": [
        {
          "output_type": "stream",
          "name": "stdout",
          "text": [
            "[nltk_data] Downloading package punkt to /root/nltk_data...\n",
            "[nltk_data]   Unzipping tokenizers/punkt.zip.\n",
            "[nltk_data] Downloading package averaged_perceptron_tagger to\n",
            "[nltk_data]     /root/nltk_data...\n",
            "[nltk_data]   Unzipping taggers/averaged_perceptron_tagger.zip.\n",
            "[nltk_data] Downloading package stopwords to /root/nltk_data...\n",
            "[nltk_data]   Unzipping corpora/stopwords.zip.\n"
          ]
        }
      ]
    },
    {
      "cell_type": "code",
      "metadata": {
        "id": "-0HMIM43PgdI"
      },
      "source": [
        "df=pd.read_csv('/content/spam.csv',encoding='ISO-8859-1')"
      ],
      "execution_count": 2,
      "outputs": []
    },
    {
      "cell_type": "code",
      "metadata": {
        "id": "3_oUJe9gQaDL"
      },
      "source": [
        "le=LabelEncoder()\n",
        "data=df.to_numpy()#converts the datafraame to a numpy array"
      ],
      "execution_count": 3,
      "outputs": []
    },
    {
      "cell_type": "code",
      "metadata": {
        "id": "cR8FTEGiWW-q"
      },
      "source": [
        "X=data[:,1]\n",
        "y=data[:,0]"
      ],
      "execution_count": 4,
      "outputs": []
    },
    {
      "cell_type": "code",
      "metadata": {
        "id": "v4a7ELUhW5JI",
        "colab": {
          "base_uri": "https://localhost:8080/"
        },
        "outputId": "37470599-fda2-4378-df3d-a8983f029620"
      },
      "source": [
        "X.shape,y.shape\n"
      ],
      "execution_count": 5,
      "outputs": [
        {
          "output_type": "execute_result",
          "data": {
            "text/plain": [
              "((5572,), (5572,))"
            ]
          },
          "metadata": {},
          "execution_count": 5
        }
      ]
    },
    {
      "cell_type": "code",
      "metadata": {
        "id": "qW_5V4XYYS_Y"
      },
      "source": [
        "tokenizer=RegexpTokenizer('\\w+')#\\w+ matches any word character (equal to [a-zA-Z0-9_]) + Quantifier — Matches\n",
        "# between one and unlimited times, as many times as possible, giving back as needed.\n",
        "stw=set(stopwords.words('english'))\n",
        "ps=PorterStemmer()\n"
      ],
      "execution_count": 6,
      "outputs": []
    },
    {
      "cell_type": "code",
      "metadata": {
        "id": "3O2m7ajQYkki"
      },
      "source": [
        "def getStem(review):\n",
        "  review=review.lower()\n",
        "  tokens=tokenizer.tokenize(review)#breaking into small words\n",
        "  removed_stopwords=[w for w in tokens if w not in stw ]\n",
        "  stemmed_words=[ps.stem(token) for token in removed_stopwords]\n",
        "  clean_review=\" \".join(stemmed_words)\n",
        "  return clean_review"
      ],
      "execution_count": 7,
      "outputs": []
    },
    {
      "cell_type": "code",
      "metadata": {
        "id": "zyLwPUa8eh9K"
      },
      "source": [
        "#get a clean document\n",
        "def getDoc(document):\n",
        "  d=[]\n",
        "  for doc in document:\n",
        "    d.append(getStem(doc))\n",
        "  return d"
      ],
      "execution_count": 8,
      "outputs": []
    },
    {
      "cell_type": "code",
      "metadata": {
        "id": "egTqBCWZfq_w"
      },
      "source": [
        "stemmed_doc=getDoc(X)"
      ],
      "execution_count": 9,
      "outputs": []
    },
    {
      "cell_type": "code",
      "metadata": {
        "id": "YBNa4sbGfyHG",
        "colab": {
          "base_uri": "https://localhost:8080/"
        },
        "outputId": "eafe2e10-2ba3-4d77-da0c-e0412ffb8781"
      },
      "source": [
        "stemmed_doc[:10]"
      ],
      "execution_count": 10,
      "outputs": [
        {
          "output_type": "execute_result",
          "data": {
            "text/plain": [
              "['go jurong point crazi avail bugi n great world la e buffet cine got amor wat',\n",
              " 'ok lar joke wif u oni',\n",
              " 'free entri 2 wkli comp win fa cup final tkt 21st may 2005 text fa 87121 receiv entri question std txt rate c appli 08452810075over18',\n",
              " 'u dun say earli hor u c alreadi say',\n",
              " 'nah think goe usf live around though',\n",
              " 'freemsg hey darl 3 week word back like fun still tb ok xxx std chg send ï ½1 50 rcv',\n",
              " 'even brother like speak treat like aid patent',\n",
              " 'per request mell mell oru minnaminungint nurungu vettam set callertun caller press 9 copi friend callertun',\n",
              " 'winner valu network custom select receivea ï ½900 prize reward claim call 09061701461 claim code kl341 valid 12 hour',\n",
              " 'mobil 11 month u r entitl updat latest colour mobil camera free call mobil updat co free 08002986030']"
            ]
          },
          "metadata": {},
          "execution_count": 10
        }
      ]
    },
    {
      "cell_type": "code",
      "metadata": {
        "id": "QRC_e2PYhhbP"
      },
      "source": [
        "cv=CountVectorizer()\n"
      ],
      "execution_count": 11,
      "outputs": []
    },
    {
      "cell_type": "code",
      "metadata": {
        "id": "2RDmDDUCh5_q"
      },
      "source": [
        "#create my vocab\n",
        "vc=cv.fit_transform(stemmed_doc)"
      ],
      "execution_count": 12,
      "outputs": []
    },
    {
      "cell_type": "code",
      "metadata": {
        "id": "ulELs2PjkGlo"
      },
      "source": [
        "X=vc.toarray()#or use vc toarray()"
      ],
      "execution_count": 13,
      "outputs": []
    },
    {
      "cell_type": "code",
      "metadata": {
        "id": "9692GXkbkQvS"
      },
      "source": [
        "X_train, X_test, y_train, y_test = train_test_split(\n",
        "...     X, y, test_size=0.33, random_state=42)\n"
      ],
      "execution_count": 14,
      "outputs": []
    },
    {
      "cell_type": "code",
      "metadata": {
        "id": "clB_lxHrkwqa"
      },
      "source": [
        "#Naive Baye's from sklearn\n",
        "from sklearn.naive_bayes import MultinomialNB"
      ],
      "execution_count": 15,
      "outputs": []
    },
    {
      "cell_type": "code",
      "metadata": {
        "colab": {
          "base_uri": "https://localhost:8080/"
        },
        "id": "jnlgt7jIm4zz",
        "outputId": "8c5f4122-6bba-4070-f4b0-b5b3e7e815cd"
      },
      "source": [
        "model=MultinomialNB()\n",
        "model.fit(X_train,y_train)\n",
        "model.score(X_test,y_test)"
      ],
      "execution_count": 16,
      "outputs": [
        {
          "output_type": "execute_result",
          "data": {
            "text/plain": [
              "0.9798803697661773"
            ]
          },
          "metadata": {},
          "execution_count": 16
        }
      ]
    },
    {
      "cell_type": "code",
      "metadata": {
        "id": "YNJufMMenHHa"
      },
      "source": [
        "messages = [\n",
        "\"\"\"HI  ,how are you?\"\"\",\"\"\"\n",
        "Congratulations!You have won a $100\"\"\"\n",
        "]"
      ],
      "execution_count": 17,
      "outputs": []
    },
    {
      "cell_type": "code",
      "metadata": {
        "id": "MqpTk96UsV7X"
      },
      "source": [
        "def prepare(messages):\n",
        "  d=getDoc(messages)\n",
        "  #don't do fit_transform: it will create new vocab.\n",
        "  return cv.transform(d)\n",
        "messages=prepare(messages)"
      ],
      "execution_count": 18,
      "outputs": []
    },
    {
      "cell_type": "code",
      "metadata": {
        "id": "aE2mngzestnn"
      },
      "source": [
        "y_pred= model.predict(messages)"
      ],
      "execution_count": 19,
      "outputs": []
    },
    {
      "cell_type": "code",
      "metadata": {
        "colab": {
          "base_uri": "https://localhost:8080/"
        },
        "id": "dhFWodAPt3Q2",
        "outputId": "1de921dc-3bc3-4f75-e1c9-c79c0abd6dc9"
      },
      "source": [
        "print(y_pred)"
      ],
      "execution_count": 20,
      "outputs": [
        {
          "output_type": "stream",
          "name": "stdout",
          "text": [
            "['ham' 'spam']\n"
          ]
        }
      ]
    },
    {
      "cell_type": "code",
      "metadata": {
        "id": "2Su1zZuxt6vY"
      },
      "source": [
        ""
      ],
      "execution_count": 20,
      "outputs": []
    }
  ]
}